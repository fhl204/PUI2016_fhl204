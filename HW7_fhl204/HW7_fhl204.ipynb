{
 "cells": [
  {
   "cell_type": "code",
   "execution_count": 56,
   "metadata": {
    "collapsed": false
   },
   "outputs": [
    {
     "name": "stdout",
     "output_type": "stream",
     "text": [
      "Populating the interactive namespace from numpy and matplotlib\n"
     ]
    },
    {
     "name": "stderr",
     "output_type": "stream",
     "text": [
      "/opt/rh/anaconda/root/envs/PUI2016_Python2/lib/python2.7/site-packages/IPython/core/magics/pylab.py:161: UserWarning: pylab import has clobbered these variables: ['dist']\n",
      "`%matplotlib` prevents importing * from pylab and numpy\n",
      "  \"\\n`%matplotlib` prevents importing * from pylab and numpy\"\n"
     ]
    }
   ],
   "source": [
    "from __future__ import print_function, division\n",
    "__author__ = \"Franz Loza (fhl204), CUSP NYU 2016\"\n",
    "\n",
    "import os\n",
    "import sys\n",
    "import numpy as np\n",
    "import pandas as pd\n",
    "import json\n",
    "import math\n",
    "\n",
    "#plotting packages\n",
    "import pylab as pl\n",
    "%pylab inline\n",
    "\n",
    "import geopandas as gp\n",
    "from pandas.tools.plotting import scatter_matrix\n",
    "import urllib2\n",
    "import statsmodels.api as sm\n",
    "import statsmodels.formula.api as smf\n",
    "import matplotlib.pyplot as plt\n",
    "import matplotlib.ticker as mtick"
   ]
  },
  {
   "cell_type": "code",
   "execution_count": 50,
   "metadata": {
    "collapsed": true
   },
   "outputs": [],
   "source": [
    "url = \"http://www.nyc.gov/html/nypd/downloads/zip/analysis_and_planning/\"\n",
    "filename = \"2015_sqf_csv.csv\"\n",
    "zipname = \"2015_sqf_csv.zip\""
   ]
  },
  {
   "cell_type": "code",
   "execution_count": 51,
   "metadata": {
    "collapsed": true
   },
   "outputs": [],
   "source": [
    "#datestring = \"201501\"\n",
    "#url = \"https://s3.amazonaws.com/tripdata/\"\n",
    "#filename = datestring + \"-citibike-tripdata.csv\"\n",
    "#zipname = datestring + \"-citibike-tripdata.zip\"\n",
    "\n",
    "def getCSV(url, filename):\n",
    "    ### First I will check that it is not already there\n",
    "    if not os.path.isfile(os.getenv(\"PUIDATA\") + \"/\" + filename):\n",
    "        if os.path.isfile(filename):\n",
    "            print (\"File already exists.\")\n",
    "            # if in the current dir just move it\n",
    "            if os.system(\"mv \" + filename + \" \" + os.getenv(\"PUIDATA\")):\n",
    "                print (\"Error moving file!, Please check!\")\n",
    "        #otherwise start looking for the zip file\n",
    "        else:\n",
    "            if not os.path.isfile(os.getenv(\"PUIDATA\") + \"/\" + zipname):\n",
    "                if not os.path.isfile(zipname):\n",
    "                    print (\"Downloading\", zipname)\n",
    "                    os.system(\"curl -O \" + url + zipname)\n",
    "                ###  To move it I use the os.system() functions to run bash commands with arguments\n",
    "                os.system(\"mv \" + zipname + \" \" + os.getenv(\"PUIDATA\"))\n",
    "                print (\"File moved to PUIdata\")\n",
    "            ### unzip the csv \n",
    "            os.system(\"unzip \" + os.getenv(\"PUIDATA\") + \"/\" + zipname)\n",
    "            print (\"File unzipped\")\n",
    "            ## NOTE: old csv citibike data had a different name structure. \n",
    "#            if '2014' in datestring:\n",
    "#                os.system(\"mv \" + datestring[:4] + '-' +  datestring[4:] + \n",
    "#                          \"\\ -\\ Citi\\ Bike\\ trip\\ data.csv \" + datestring + \"-citibike-tripdata.csv\")\n",
    "            os.system(\"mv \" + filename + os.getenv(\"PUIDATA\"))\n",
    "# One final check:\n",
    "    if not os.path.isfile(os.getenv(\"PUIDATA\") + \"/\" + filename):\n",
    "        print (\"WARNING!!! something is wrong: the file is not there!\")\n",
    "    else:\n",
    "        print (\"File in PUIdata, continue\")"
   ]
  },
  {
   "cell_type": "code",
   "execution_count": 53,
   "metadata": {
    "collapsed": false
   },
   "outputs": [
    {
     "name": "stdout",
     "output_type": "stream",
     "text": [
      "File already exists.\n",
      "File in PUIdata, continue\n"
     ]
    }
   ],
   "source": [
    "getCSV(url, filename)"
   ]
  },
  {
   "cell_type": "code",
   "execution_count": 60,
   "metadata": {
    "collapsed": false
   },
   "outputs": [
    {
     "data": {
      "text/html": [
       "<div>\n",
       "<table border=\"1\" class=\"dataframe\">\n",
       "  <thead>\n",
       "    <tr style=\"text-align: right;\">\n",
       "      <th></th>\n",
       "      <th>year</th>\n",
       "      <th>pct</th>\n",
       "      <th>ser_num</th>\n",
       "      <th>datestop</th>\n",
       "      <th>timestop</th>\n",
       "      <th>recstat</th>\n",
       "      <th>inout</th>\n",
       "      <th>trhsloc</th>\n",
       "      <th>perobs</th>\n",
       "      <th>crimsusp</th>\n",
       "      <th>...</th>\n",
       "      <th>zip</th>\n",
       "      <th>addrpct</th>\n",
       "      <th>sector</th>\n",
       "      <th>beat</th>\n",
       "      <th>post</th>\n",
       "      <th>xcoord</th>\n",
       "      <th>ycoord</th>\n",
       "      <th>dettypCM</th>\n",
       "      <th>lineCM</th>\n",
       "      <th>detailCM</th>\n",
       "    </tr>\n",
       "  </thead>\n",
       "  <tbody>\n",
       "    <tr>\n",
       "      <th>0</th>\n",
       "      <td>2015</td>\n",
       "      <td>61</td>\n",
       "      <td>18</td>\n",
       "      <td>1012015</td>\n",
       "      <td>315</td>\n",
       "      <td>1</td>\n",
       "      <td>O</td>\n",
       "      <td>P</td>\n",
       "      <td>2.0</td>\n",
       "      <td>FELONY</td>\n",
       "      <td>...</td>\n",
       "      <td></td>\n",
       "      <td>61</td>\n",
       "      <td>E</td>\n",
       "      <td>7</td>\n",
       "      <td></td>\n",
       "      <td>1000091</td>\n",
       "      <td>156314</td>\n",
       "      <td>CM</td>\n",
       "      <td>1</td>\n",
       "      <td>14</td>\n",
       "    </tr>\n",
       "    <tr>\n",
       "      <th>1</th>\n",
       "      <td>2015</td>\n",
       "      <td>22</td>\n",
       "      <td>5</td>\n",
       "      <td>1152015</td>\n",
       "      <td>1747</td>\n",
       "      <td>A</td>\n",
       "      <td>O</td>\n",
       "      <td>P</td>\n",
       "      <td>1.0</td>\n",
       "      <td>FELONY</td>\n",
       "      <td>...</td>\n",
       "      <td></td>\n",
       "      <td>22</td>\n",
       "      <td>E</td>\n",
       "      <td>14</td>\n",
       "      <td></td>\n",
       "      <td>994617</td>\n",
       "      <td>227693</td>\n",
       "      <td>CM</td>\n",
       "      <td>1</td>\n",
       "      <td>20</td>\n",
       "    </tr>\n",
       "    <tr>\n",
       "      <th>2</th>\n",
       "      <td>2015</td>\n",
       "      <td>20</td>\n",
       "      <td>36</td>\n",
       "      <td>1292015</td>\n",
       "      <td>1745</td>\n",
       "      <td>1</td>\n",
       "      <td>O</td>\n",
       "      <td>P</td>\n",
       "      <td>1.0</td>\n",
       "      <td>MISD</td>\n",
       "      <td>...</td>\n",
       "      <td></td>\n",
       "      <td>20</td>\n",
       "      <td>H</td>\n",
       "      <td></td>\n",
       "      <td>16</td>\n",
       "      <td>991510</td>\n",
       "      <td>225019</td>\n",
       "      <td>CM</td>\n",
       "      <td>1</td>\n",
       "      <td>78</td>\n",
       "    </tr>\n",
       "    <tr>\n",
       "      <th>3</th>\n",
       "      <td>2015</td>\n",
       "      <td>20</td>\n",
       "      <td>38</td>\n",
       "      <td>1292015</td>\n",
       "      <td>1745</td>\n",
       "      <td>1</td>\n",
       "      <td>O</td>\n",
       "      <td>P</td>\n",
       "      <td>1.0</td>\n",
       "      <td>MIDS</td>\n",
       "      <td>...</td>\n",
       "      <td></td>\n",
       "      <td>20</td>\n",
       "      <td>H</td>\n",
       "      <td></td>\n",
       "      <td>16</td>\n",
       "      <td>991510</td>\n",
       "      <td>225019</td>\n",
       "      <td>CM</td>\n",
       "      <td>1</td>\n",
       "      <td>78</td>\n",
       "    </tr>\n",
       "    <tr>\n",
       "      <th>4</th>\n",
       "      <td>2015</td>\n",
       "      <td>20</td>\n",
       "      <td>41</td>\n",
       "      <td>1292015</td>\n",
       "      <td>1745</td>\n",
       "      <td>1</td>\n",
       "      <td>O</td>\n",
       "      <td>P</td>\n",
       "      <td>1.0</td>\n",
       "      <td>MISD</td>\n",
       "      <td>...</td>\n",
       "      <td></td>\n",
       "      <td>20</td>\n",
       "      <td>H</td>\n",
       "      <td></td>\n",
       "      <td>16</td>\n",
       "      <td>991510</td>\n",
       "      <td>225019</td>\n",
       "      <td>CM</td>\n",
       "      <td>1</td>\n",
       "      <td>78</td>\n",
       "    </tr>\n",
       "  </tbody>\n",
       "</table>\n",
       "<p>5 rows × 112 columns</p>\n",
       "</div>"
      ],
      "text/plain": [
       "   year  pct  ser_num  datestop  timestop recstat inout trhsloc  perobs  \\\n",
       "0  2015   61       18   1012015       315       1     O       P     2.0   \n",
       "1  2015   22        5   1152015      1747       A     O       P     1.0   \n",
       "2  2015   20       36   1292015      1745       1     O       P     1.0   \n",
       "3  2015   20       38   1292015      1745       1     O       P     1.0   \n",
       "4  2015   20       41   1292015      1745       1     O       P     1.0   \n",
       "\n",
       "  crimsusp    ...    zip addrpct sector beat post   xcoord   ycoord dettypCM  \\\n",
       "0   FELONY    ...             61      E    7       1000091   156314       CM   \n",
       "1   FELONY    ...             22      E   14        994617   227693       CM   \n",
       "2     MISD    ...             20      H        16   991510   225019       CM   \n",
       "3     MIDS    ...             20      H        16   991510   225019       CM   \n",
       "4     MISD    ...             20      H        16   991510   225019       CM   \n",
       "\n",
       "   lineCM  detailCM  \n",
       "0       1        14  \n",
       "1       1        20  \n",
       "2       1        78  \n",
       "3       1        78  \n",
       "4       1        78  \n",
       "\n",
       "[5 rows x 112 columns]"
      ]
     },
     "execution_count": 60,
     "metadata": {},
     "output_type": "execute_result"
    }
   ],
   "source": [
    "#convert csv to pandas dataframe\n",
    "df = pd.read_csv(os.getenv(\"PUIDATA\") + \"/\" + filename)\n",
    "df.head()"
   ]
  },
  {
   "cell_type": "code",
   "execution_count": 61,
   "metadata": {
    "collapsed": false
   },
   "outputs": [
    {
     "data": {
      "text/plain": [
       "Index([u'year', u'pct', u'ser_num', u'datestop', u'timestop', u'recstat',\n",
       "       u'inout', u'trhsloc', u'perobs', u'crimsusp',\n",
       "       ...\n",
       "       u'zip', u'addrpct', u'sector', u'beat', u'post', u'xcoord', u'ycoord',\n",
       "       u'dettypCM', u'lineCM', u'detailCM'],\n",
       "      dtype='object', length=112)"
      ]
     },
     "execution_count": 61,
     "metadata": {},
     "output_type": "execute_result"
    }
   ],
   "source": [
    "df.columns"
   ]
  },
  {
   "cell_type": "code",
   "execution_count": 63,
   "metadata": {
    "collapsed": false
   },
   "outputs": [
    {
     "data": {
      "text/html": [
       "<div>\n",
       "<table border=\"1\" class=\"dataframe\">\n",
       "  <thead>\n",
       "    <tr style=\"text-align: right;\">\n",
       "      <th></th>\n",
       "      <th>year</th>\n",
       "      <th>pct</th>\n",
       "      <th>ser_num</th>\n",
       "      <th>datestop</th>\n",
       "      <th>timestop</th>\n",
       "      <th>recstat</th>\n",
       "      <th>inout</th>\n",
       "      <th>trhsloc</th>\n",
       "      <th>perobs</th>\n",
       "      <th>crimsusp</th>\n",
       "      <th>...</th>\n",
       "      <th>addrpct</th>\n",
       "      <th>sector</th>\n",
       "      <th>beat</th>\n",
       "      <th>post</th>\n",
       "      <th>xcoord</th>\n",
       "      <th>ycoord</th>\n",
       "      <th>dettypCM</th>\n",
       "      <th>lineCM</th>\n",
       "      <th>detailCM</th>\n",
       "      <th>date</th>\n",
       "    </tr>\n",
       "  </thead>\n",
       "  <tbody>\n",
       "    <tr>\n",
       "      <th>0</th>\n",
       "      <td>2015</td>\n",
       "      <td>61</td>\n",
       "      <td>18</td>\n",
       "      <td>1012015</td>\n",
       "      <td>315</td>\n",
       "      <td>1</td>\n",
       "      <td>O</td>\n",
       "      <td>P</td>\n",
       "      <td>2.0</td>\n",
       "      <td>FELONY</td>\n",
       "      <td>...</td>\n",
       "      <td>61</td>\n",
       "      <td>E</td>\n",
       "      <td>7</td>\n",
       "      <td></td>\n",
       "      <td>1000091</td>\n",
       "      <td>156314</td>\n",
       "      <td>CM</td>\n",
       "      <td>1</td>\n",
       "      <td>14</td>\n",
       "      <td>1970-01-01 00:00:00.001012015</td>\n",
       "    </tr>\n",
       "    <tr>\n",
       "      <th>1</th>\n",
       "      <td>2015</td>\n",
       "      <td>22</td>\n",
       "      <td>5</td>\n",
       "      <td>1152015</td>\n",
       "      <td>1747</td>\n",
       "      <td>A</td>\n",
       "      <td>O</td>\n",
       "      <td>P</td>\n",
       "      <td>1.0</td>\n",
       "      <td>FELONY</td>\n",
       "      <td>...</td>\n",
       "      <td>22</td>\n",
       "      <td>E</td>\n",
       "      <td>14</td>\n",
       "      <td></td>\n",
       "      <td>994617</td>\n",
       "      <td>227693</td>\n",
       "      <td>CM</td>\n",
       "      <td>1</td>\n",
       "      <td>20</td>\n",
       "      <td>1970-01-01 00:00:00.001152015</td>\n",
       "    </tr>\n",
       "    <tr>\n",
       "      <th>2</th>\n",
       "      <td>2015</td>\n",
       "      <td>20</td>\n",
       "      <td>36</td>\n",
       "      <td>1292015</td>\n",
       "      <td>1745</td>\n",
       "      <td>1</td>\n",
       "      <td>O</td>\n",
       "      <td>P</td>\n",
       "      <td>1.0</td>\n",
       "      <td>MISD</td>\n",
       "      <td>...</td>\n",
       "      <td>20</td>\n",
       "      <td>H</td>\n",
       "      <td></td>\n",
       "      <td>16</td>\n",
       "      <td>991510</td>\n",
       "      <td>225019</td>\n",
       "      <td>CM</td>\n",
       "      <td>1</td>\n",
       "      <td>78</td>\n",
       "      <td>1970-01-01 00:00:00.001292015</td>\n",
       "    </tr>\n",
       "    <tr>\n",
       "      <th>3</th>\n",
       "      <td>2015</td>\n",
       "      <td>20</td>\n",
       "      <td>38</td>\n",
       "      <td>1292015</td>\n",
       "      <td>1745</td>\n",
       "      <td>1</td>\n",
       "      <td>O</td>\n",
       "      <td>P</td>\n",
       "      <td>1.0</td>\n",
       "      <td>MIDS</td>\n",
       "      <td>...</td>\n",
       "      <td>20</td>\n",
       "      <td>H</td>\n",
       "      <td></td>\n",
       "      <td>16</td>\n",
       "      <td>991510</td>\n",
       "      <td>225019</td>\n",
       "      <td>CM</td>\n",
       "      <td>1</td>\n",
       "      <td>78</td>\n",
       "      <td>1970-01-01 00:00:00.001292015</td>\n",
       "    </tr>\n",
       "    <tr>\n",
       "      <th>4</th>\n",
       "      <td>2015</td>\n",
       "      <td>20</td>\n",
       "      <td>41</td>\n",
       "      <td>1292015</td>\n",
       "      <td>1745</td>\n",
       "      <td>1</td>\n",
       "      <td>O</td>\n",
       "      <td>P</td>\n",
       "      <td>1.0</td>\n",
       "      <td>MISD</td>\n",
       "      <td>...</td>\n",
       "      <td>20</td>\n",
       "      <td>H</td>\n",
       "      <td></td>\n",
       "      <td>16</td>\n",
       "      <td>991510</td>\n",
       "      <td>225019</td>\n",
       "      <td>CM</td>\n",
       "      <td>1</td>\n",
       "      <td>78</td>\n",
       "      <td>1970-01-01 00:00:00.001292015</td>\n",
       "    </tr>\n",
       "  </tbody>\n",
       "</table>\n",
       "<p>5 rows × 113 columns</p>\n",
       "</div>"
      ],
      "text/plain": [
       "   year  pct  ser_num  datestop  timestop recstat inout trhsloc  perobs  \\\n",
       "0  2015   61       18   1012015       315       1     O       P     2.0   \n",
       "1  2015   22        5   1152015      1747       A     O       P     1.0   \n",
       "2  2015   20       36   1292015      1745       1     O       P     1.0   \n",
       "3  2015   20       38   1292015      1745       1     O       P     1.0   \n",
       "4  2015   20       41   1292015      1745       1     O       P     1.0   \n",
       "\n",
       "  crimsusp              ...              addrpct sector beat post   xcoord  \\\n",
       "0   FELONY              ...                   61      E    7       1000091   \n",
       "1   FELONY              ...                   22      E   14        994617   \n",
       "2     MISD              ...                   20      H        16   991510   \n",
       "3     MIDS              ...                   20      H        16   991510   \n",
       "4     MISD              ...                   20      H        16   991510   \n",
       "\n",
       "    ycoord dettypCM lineCM  detailCM                          date  \n",
       "0   156314       CM      1        14 1970-01-01 00:00:00.001012015  \n",
       "1   227693       CM      1        20 1970-01-01 00:00:00.001152015  \n",
       "2   225019       CM      1        78 1970-01-01 00:00:00.001292015  \n",
       "3   225019       CM      1        78 1970-01-01 00:00:00.001292015  \n",
       "4   225019       CM      1        78 1970-01-01 00:00:00.001292015  \n",
       "\n",
       "[5 rows x 113 columns]"
      ]
     },
     "execution_count": 63,
     "metadata": {},
     "output_type": "execute_result"
    }
   ],
   "source": [
    "df['date'] = pd.to_datetime(df['datestop'])\n",
    "df.head()"
   ]
  },
  {
   "cell_type": "code",
   "execution_count": 74,
   "metadata": {
    "collapsed": false
   },
   "outputs": [
    {
     "data": {
      "text/plain": [
       "<matplotlib.text.Text at 0x7fe1a0644810>"
      ]
     },
     "execution_count": 74,
     "metadata": {},
     "output_type": "execute_result"
    },
    {
     "data": {
      "image/png": "[encoded data removed]",
      "text/plain": [
       "<matplotlib.figure.Figure at 0x7fe1a0b28550>"
      ]
     },
     "metadata": {},
     "output_type": "display_data"
    }
   ],
   "source": [
    "fig=pl.figure(figsize(10,5))\n",
    "\n",
    "counts_w = df.race[df.sex == \"F\"].groupby([df.race]).count()\n",
    "norm_w = 1\n",
    "error_w = np.sqrt(counts_w)\n",
    "ax=((counts_w) / norm_w).plot(kind=\"bar\",color='IndianRed',  yerr=[\n",
    "            ((error_w) / norm_w, (error_w) / norm_w)], label='women stopped')\n",
    "\n",
    "counts_m = df.race[df.sex == \"M\"].groupby([df.race]).count()\n",
    "norm_m = 1\n",
    "error_m=np.sqrt(counts_m)\n",
    "((counts_m) / norm_m).plot(kind=\"bar\", alpha=0.5, yerr=[((error_m) / norm_m, (error_m) / norm_m)], \n",
    "                           color='SteelBlue', label='men stopped')\n",
    "ax.xaxis.set_ticklabels(['Asian','Black','Native American','Black-Hispanic',\n",
    "                         'White-Hispanic','Unknown','White','Other'], fontsize=10)\n",
    "ax.set_ylabel (\"Number of stops\")\n",
    "ax.set_xlabel (\"Race\")\n",
    "pl.legend(['women','men'],fontsize='medium')\n",
    "pl.title('2015 NYPD Report of Citizens Stopped by race and gender, absolute count')"
   ]
  },
  {
   "cell_type": "markdown",
   "metadata": {
    "collapsed": true
   },
   "source": [
    "Figure 1: Distribution of citizens stopped by race and gender in 2015, absolute counts, with statistical errors.  This shows black and white hispanics with the highest absolute numbers.  This does not however give us the ratio counts."
   ]
  },
  {
   "cell_type": "code",
   "execution_count": 73,
   "metadata": {
    "collapsed": false
   },
   "outputs": [
    {
     "data": {
      "text/plain": [
       "<matplotlib.text.Text at 0x7fe1a07be490>"
      ]
     },
     "execution_count": 73,
     "metadata": {},
     "output_type": "execute_result"
    },
    {
     "data": {
      "image/png": "[encoded data removed]",
      "text/plain": [
       "<matplotlib.figure.Figure at 0x7fe1a1139810>"
      ]
     },
     "metadata": {},
     "output_type": "display_data"
    }
   ],
   "source": [
    "fig = pl.figure(figsize(10,5))\n",
    "\n",
    "norm_w = counts_w.sum()\n",
    "error_w = np.sqrt(counts_w)\n",
    "((counts_w) / norm_w).plot(kind=\"bar\", color='IndianRed',  \n",
    "                           yerr=[((error_w) / norm_w, (error_w) / norm_w)], \n",
    "                           label='women')\n",
    "\n",
    "norm_m = counts_m.sum()\n",
    "ax = ((counts_m) / norm_m).plot(kind=\"bar\", alpha=0.5, \n",
    "                                yerr=[((error_m) / norm_m, (error_m) / norm_m)], \n",
    "                                color='SteelBlue', label='men')\n",
    "\n",
    "ax.xaxis.set_ticklabels(['Asian','Black','Native American','Black-Hispanic',\n",
    "                         'White-Hispanic','Unknown','White','Other'], fontsize=10)\n",
    "ax.set_ylabel (\"Fraction of Stops\")\n",
    "ax.set_xlabel (\"Race\")\n",
    "pl.legend(['women','men'],fontsize='medium')\n",
    "pl.title('2015 NYPD Report of Citizens Stopped by race and gender, normalized')"
   ]
  },
  {
   "cell_type": "markdown",
   "metadata": {},
   "source": [
    "Figure 2: Distribution of citizens stopped by race and gender in 2015, normalized.  The fraction of stops gives insight so that the races are comparable."
   ]
  }
 ],
 "metadata": {
  "kernelspec": {
   "display_name": "PUI2016_Python2",
   "language": "python",
   "name": "pui2016_python2"
  },
  "language_info": {
   "codemirror_mode": {
    "name": "ipython",
    "version": 2
   },
   "file_extension": ".py",
   "mimetype": "text/x-python",
   "name": "python",
   "nbconvert_exporter": "python",
   "pygments_lexer": "ipython2",
   "version": "2.7.12"
  }
 },
 "nbformat": 4,
 "nbformat_minor": 0
}
