{
 "cells": [
  {
   "cell_type": "markdown",
   "metadata": {},
   "source": [
    "## Assigment\n",
    "Test whether a gaussian model N($\\mu$, $\\sigma$) for the age distribution of citibike drivers is a sensible model, or if you can find a better fit with another distribution.\n",
    "\n",
    "Use 2 tests: KS, AD, KL, chisq (even though we have not talked about it in detail yet) to do this.\n",
    "\n",
    "Test at the Normal and a least one other distributions (e.g. Poisson, or Binomial, or Chisq, Lognormal.......)\n",
    "\n",
    "\n",
    "#### IDEA:\n",
    "Does the gaussian model sensibly fit the distribution of age among Citibike riders?\n",
    "\n",
    "#### NULL HYPOTHESIS:\n",
    "The distribution of CitiBike riders by age is equal to that of a gaussian model, significance level p=0.05.\n",
    "\n",
    "$H_0$ : R0 - R1 = 0\n",
    "\n",
    "$H_1$ : R0 - R1 $\\neq 0$\n",
    "\n",
    "#### ALTERNATIVE HYPOTHESIS:\n",
    "The distribution of CitiBike riders by age is not equal to that of a gaussian model, significance level p=0.05."
   ]
  },
  {
   "cell_type": "code",
   "execution_count": 7,
   "metadata": {
    "collapsed": false
   },
   "outputs": [
    {
     "name": "stdout",
     "output_type": "stream",
     "text": [
      "Populating the interactive namespace from numpy and matplotlib\n"
     ]
    }
   ],
   "source": [
    "from __future__  import print_function, division\n",
    "import pylab as pl\n",
    "import pandas as pd\n",
    "import numpy as np\n",
    "import os\n",
    "import json\n",
    "import scipy.stats\n",
    "\n",
    "%pylab inline"
   ]
  },
  {
   "cell_type": "code",
   "execution_count": 8,
   "metadata": {
    "collapsed": false
   },
   "outputs": [
    {
     "data": {
      "text/plain": [
       "'/home/cusp/fhl204/PUIdata'"
      ]
     },
     "execution_count": 8,
     "metadata": {},
     "output_type": "execute_result"
    }
   ],
   "source": [
    "os.getenv('PUI2016')\n",
    "os.getenv('PUIDATA')"
   ]
  },
  {
   "cell_type": "code",
   "execution_count": 12,
   "metadata": {
    "collapsed": false
   },
   "outputs": [
    {
     "name": "stdout",
     "output_type": "stream",
     "text": [
      "  % Total    % Received % Xferd  Average Speed   Time    Time     Time  Current\n",
      "                                 Dload  Upload   Total   Spent    Left  Speed\n",
      "100 32.9M  100 32.9M    0     0  37.3M      0 --:--:-- --:--:-- --:--:-- 46.6M\n"
     ]
    }
   ],
   "source": [
    "!curl -O 'https://s3.amazonaws.com/tripdata/201507-citibike-tripdata.zip'"
   ]
  },
  {
   "cell_type": "code",
   "execution_count": 13,
   "metadata": {
    "collapsed": false
   },
   "outputs": [
    {
     "name": "stdout",
     "output_type": "stream",
     "text": [
      "Archive:  201507-citibike-tripdata.zip\n",
      "  inflating: 201507-citibike-tripdata.csv  \n"
     ]
    }
   ],
   "source": [
    "!unzip 201507-citibike-tripdata.zip"
   ]
  },
  {
   "cell_type": "code",
   "execution_count": 39,
   "metadata": {
    "collapsed": false
   },
   "outputs": [],
   "source": [
    "df = pd.read_csv('201507-citibike-tripdata.csv')"
   ]
  },
  {
   "cell_type": "code",
   "execution_count": 24,
   "metadata": {
    "collapsed": false
   },
   "outputs": [
    {
     "data": {
      "text/plain": [
       "count    905311.000000\n",
       "mean         39.351615\n",
       "std          11.440139\n",
       "min          17.000000\n",
       "25%          30.000000\n",
       "50%          37.000000\n",
       "75%          47.000000\n",
       "max         131.000000\n",
       "Name: age, dtype: float64"
      ]
     },
     "execution_count": 24,
     "metadata": {},
     "output_type": "execute_result"
    }
   ],
   "source": [
    "df = df[df.usertype != 'Customer']\n",
    "#df.drop(['starttime', 'stoptime', 'start station name', 'end station name'], axis=1, inplace=True)\n",
    "df['age'] = 2016 - df['birth year'][(df['usertype'] == 'Subscriber')]\n",
    "df['age'].dropna(inplace= True)\n",
    "df_age = df['age']\n",
    "df_age.describe()"
   ]
  },
  {
   "cell_type": "code",
   "execution_count": 25,
   "metadata": {
    "collapsed": false
   },
   "outputs": [
    {
     "data": {
      "text/plain": [
       "<matplotlib.text.Text at 0x7f45fe414990>"
      ]
     },
     "execution_count": 25,
     "metadata": {},
     "output_type": "execute_result"
    },
    {
     "data": {
      "image/png": "[encoded data removed]",
      "text/plain": [
       "<matplotlib.figure.Figure at 0x7f45fe4f5d90>"
      ]
     },
     "metadata": {},
     "output_type": "display_data"
    }
   ],
   "source": [
    "bins = np.arange(10, 99, 5)\n",
    "ax = df_age.groupby(pd.cut(df.age, bins)).agg([count_nonzero]).plot(kind='bar', \n",
    "                                                                legend=False)\n",
    "ax.set_title(\"July 2015 Citibike Riders by Age Groups\")"
   ]
  },
  {
   "cell_type": "markdown",
   "metadata": {},
   "source": [
    "### scipy.stats.kstest\n",
    "\n",
    "#### Perform the Kolmogorov-Smirnov test for goodness of fit.\n",
    "This performs a test of the distribution G(x) of an observed random variable against a given distribution F(x). Under the null hypothesis the two distributions are identical, G(x)=F(x). The alternative hypothesis can be either ‘two-sided’ (default), ‘less’ or ‘greater’. The KS test is only valid for continuous distributions. \n",
    "\n",
    "In the one-sided test, the alternative is that the empirical cumulative distribution function of the random variable is “less” or “greater” than the cumulative distribution function F(x) of the hypothesis, G(x)<=F(x), resp. G(x)>=F(x).\n",
    "\n",
    "\n",
    "### scipy.stats.anderson\n",
    "\n",
    "#### Anderson-Darling test for data coming from a particular distribution\n",
    "The Anderson-Darling test is a modification of the Kolmogorov-\n",
    "Smirnov test `kstest` for the null hypothesis that a sample is\n",
    "drawn from a population that follows a particular distribution.\n",
    "For the Anderson-Darling test, the critical values depend on\n",
    "which distribution is being tested against.  This function works\n",
    "for normal, exponential, logistic, or Gumbel (Extreme Value\n",
    "Type I) distributions.\n",
    "Valid distributions: dist must be 'norm', 'expon', 'gumbel', 'extreme1' or 'logistic'.\n",
    "\n",
    "If A2 is larger than these critical values then for the corresponding significance level, the null hypothesis that the data come from the chosen distribution can be rejected.  "
   ]
  },
  {
   "cell_type": "code",
   "execution_count": 27,
   "metadata": {
    "collapsed": false
   },
   "outputs": [
    {
     "data": {
      "text/plain": [
       "KstestResult(statistic=0.10663088727174719, pvalue=0.0)"
      ]
     },
     "execution_count": 27,
     "metadata": {},
     "output_type": "execute_result"
    }
   ],
   "source": [
    "scipy.stats.kstest(df['age'].values,'norm', args=(df.age.mean(), df.age.std()))"
   ]
  },
  {
   "cell_type": "code",
   "execution_count": 37,
   "metadata": {
    "collapsed": false
   },
   "outputs": [
    {
     "name": "stdout",
     "output_type": "stream",
     "text": [
      "KS test: age on normal KstestResult(statistic=1.0, pvalue=0.0)\n",
      "AD test: age on normal AndersonResult(statistic=13805.856181447394, critical_values=array([ 0.576,  0.656,  0.787,  0.918,  1.092]), significance_level=array([ 15. ,  10. ,   5. ,   2.5,   1. ]))\n",
      "\n"
     ]
    }
   ],
   "source": [
    "#test ad and ks. at normal distribution\n",
    "print (\"KS test: age on normal\", scipy.stats.kstest(df_age,'norm'))\n",
    "print (\"AD test: age on normal\", scipy.stats.anderson(df_age, dist='norm'))\n",
    "print (\"\") "
   ]
  },
  {
   "cell_type": "code",
   "execution_count": 38,
   "metadata": {
    "collapsed": false
   },
   "outputs": [
    {
     "name": "stdout",
     "output_type": "stream",
     "text": [
      "KS test: age on poisson KstestResult(statistic=0.57392522699754978, pvalue=0.0)\n",
      "AD test: age on expon AndersonResult(statistic=216340.95160200982, critical_values=array([ 0.922,  1.078,  1.341,  1.606,  1.957]), significance_level=array([ 15. ,  10. ,   5. ,   2.5,   1. ]))\n",
      "\n"
     ]
    }
   ],
   "source": [
    "#test at other distributions\n",
    "print (\"KS test: age on poisson\", scipy.stats.kstest(df_age,'poisson', args=(df.age.mean(), df.age.std())))\n",
    "print (\"AD test: age on expon\", scipy.stats.anderson(df_age, dist='expon'))\n",
    "print (\"\") "
   ]
  },
  {
   "cell_type": "markdown",
   "metadata": {},
   "source": [
    "## Results\n",
    "\n",
    "KS tests at normal and poisson distributions returned pvalue at 0.0, thus we reject the null hypothesis in both cases - the distribution of CitiBike riders by age does not equal that of a gaussian model.\n",
    "\n",
    "AD tests at normal and exponential distributions returned statistic values greater than the critical values, thus we reject the null hypothesis in both cases - the distribution of CitiBike riders by age does not equal that of a gaussian model."
   ]
  }
 ],
 "metadata": {
  "kernelspec": {
   "display_name": "PUI2016_Python2",
   "language": "python",
   "name": "pui2016_python2"
  },
  "language_info": {
   "codemirror_mode": {
    "name": "ipython",
    "version": 2
   },
   "file_extension": ".py",
   "mimetype": "text/x-python",
   "name": "python",
   "nbconvert_exporter": "python",
   "pygments_lexer": "ipython2",
   "version": "2.7.12"
  }
 },
 "nbformat": 4,
 "nbformat_minor": 0
}
