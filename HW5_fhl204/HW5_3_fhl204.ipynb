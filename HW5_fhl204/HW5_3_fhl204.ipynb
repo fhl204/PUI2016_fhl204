{
 "cells": [
  {
   "cell_type": "markdown",
   "metadata": {},
   "source": [
    "## Assignment 3: Practice formulating the null hypothesis\n"
   ]
  },
  {
   "cell_type": "markdown",
   "metadata": {},
   "source": [
    "## IDEA: Do diets help lose more fat than the exercise?\n",
    "Experimental setup: you have a test and a control sample.\n",
    "\n",
    "NULL HYPOTHESIS:\n",
    "Percent difference of body fat lost by a group of dieters compared to a group of non-dieters for three months is equal or less than the percent difference of body fat lost by a group who exercise compared to a group of a group who do not exercise for three months, significance level p=0.05.\n",
    "\n",
    "$H_0$ : S0[comparative % body fat lost of dieters] - S1[comparative % body fat lost of exercise group] <= 0\n",
    "\n",
    "$H_a$ : S0 - S1 > 0\n",
    "\n",
    "$\\alpha$ = 0.05\n",
    "\n",
    "ALTERNATIVE HYPOTHESIS:\n",
    "Percent difference of body fat lost by a group of dieters compared to a group of non-dieters for three months is greater than the percent difference of body fat lost by a group who exercise compared to a group of a group who do not exercise for three months, significance level p=0.05."
   ]
  },
  {
   "cell_type": "markdown",
   "metadata": {},
   "source": [
    "## IDEA: Do American trust the president?\n",
    "POLL RESULTS: On May 16, 1994, Newsweek reported the results of a public opinion poll that asked: “From everything you know about Bill Clinton, does he have the honesty and integrity you expect in a president?” (p. 23). Poll surveyed 518 adults and 233, or 0.45 of them answered yes.\n",
    "\n",
    "NULL HYPOTHESIS:\n",
    "The proportion of public opinion of adults polled who do not trust the president is greater than the proportion who idicated their expections are met, significance level p=0.05.\n",
    "\n",
    "$H_0$ : P0[Proportion of public opinion of adults polled who do not trust the president] > 0.5\n",
    "\n",
    "$H_a$ : P1[Proportion of public opinion of adults polled who trust the president] > 0.5\n",
    "\n",
    "$\\alpha$ = 0.05\n",
    "\n",
    "ALTERNATIVE HYPOTHESIS:\n",
    "Public opinion of adults polled, significance level p=0.05."
   ]
  },
  {
   "cell_type": "markdown",
   "metadata": {},
   "source": [
    "## IDEA: Effectiveness of nicotine patches to quit smoking.\n",
    "Experimental setup: measure cessation rates for smokers randomly assigned to use a nicotine patch versus a placebo patch.\n",
    "\n",
    "NULL HYPOTHESIS:\n",
    "The cessation rates for smokers randomly assigned to use a nicotine patch is less than or equal to the cessation rates for smokers given a placebo patch, significance level p=0.05.\n",
    "\n",
    "$H_0$ : S0[cessation rate of nicotine patch users] - S1[cessation rate of placebo patch group] <= 0\n",
    "\n",
    "$H_a$ : S0 - S1 > 0\n",
    "\n",
    "$\\alpha$ = 0.05\n",
    "\n",
    "ALTERNATIVE HYPOTHESIS:\n",
    "The cessation rates for smokers randomly assigned to use a nicotine patch is greater than the cessation rates for smokers given a placebo patch, significance level p=0.05."
   ]
  },
  {
   "cell_type": "markdown",
   "metadata": {},
   "source": [
    "## IDEA: Quantify the danger of smoking for pregnant women.\n",
    "Experimemtal setup: measure IQ of children at ages 1, 2, 3, and 4 years of age.\n",
    "\n",
    "NULL HYPOTHESIS:\n",
    "Children ages between the ages of 1 to 4 whose mother smoked during pregancy score equal or higher in IQ tests than children in the same age whose mother did not smoke during pregancy, significance level p=0.05.\n",
    "\n",
    "$H_0$ : C0[IQ test score of childen whose mother smoked during pregancy] - C1[IQ test score of childen whose mother did not smoke during pregancy] >= 0\n",
    "\n",
    "$H_a$ : C0 - C1 < 0\n",
    "\n",
    "$\\alpha$ = 0.05\n",
    "\n",
    "ALTERNATIVE HYPOTHESIS:\n",
    "Children ages between the ages of 1 to 4 whose mother smoked during pregancy score lower in IQ tests than children in the same age whose mother did not smoke during pregancy, significance level p=0.05."
   ]
  },
  {
   "cell_type": "code",
   "execution_count": null,
   "metadata": {
    "collapsed": true
   },
   "outputs": [],
   "source": []
  }
 ],
 "metadata": {
  "kernelspec": {
   "display_name": "PUI2016_Python2",
   "language": "python",
   "name": "pui2016_python2"
  },
  "language_info": {
   "codemirror_mode": {
    "name": "ipython",
    "version": 2
   },
   "file_extension": ".py",
   "mimetype": "text/x-python",
   "name": "python",
   "nbconvert_exporter": "python",
   "pygments_lexer": "ipython2",
   "version": "2.7.12"
  }
 },
 "nbformat": 4,
 "nbformat_minor": 0
}
